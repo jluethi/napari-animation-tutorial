{
 "cells": [
  {
   "cell_type": "markdown",
   "id": "2df53c2b-853e-4dcb-b8b1-593575a05d19",
   "metadata": {},
   "source": [
    "# Introduction to napari\n",
    "`napari` is a fast, interactive, multi-dimensional image viewer for Python. It’s designed for browsing, annotating, and analyzing large multi-dimensional images. It’s built on top of Qt (for the GUI), vispy (for performant GPU-based rendering), and the scientific Python stack (numpy, scipy).\n",
    "\n",
    "`napari` includes critical viewer features out-of-the-box, such as support for large multi-dimensional data, layering, and annotation. By integrating closely with the scientific Python ecosystem, napari can be easily coupled to leading machine learning and image analysis tools (e.g. scikit-image, scikit-learn, PyTorch), enabling more user-friendly automated analysis.\n",
    "\n",
    "`napari` also supports bidirectional communication between the viewer and the Python kernel, which is especially useful when launching from jupyter notebooks or when using our built-in console. Using the console allows you to interactively load and save data from the viewer and control all the features of the viewer programmatically.\n",
    "\n",
    "This first part is all about getting to know the core functionality of napari. You can launch napari from the console by activating your python environment (e.g. `conda activate napari-tutorial`) and then launching napari, just type `napari`. Or you can launch napari from within a jupyter notebook (great if you want to interact with napari from python and follow along in the tutorial)."
   ]
  },
  {
   "cell_type": "code",
   "execution_count": null,
   "id": "257ba0b2-9893-474e-99ed-71682f90f4d0",
   "metadata": {},
   "outputs": [],
   "source": [
    "import napari\n",
    "import imageio\n",
    "from pathlib import Path"
   ]
  },
  {
   "cell_type": "code",
   "execution_count": null,
   "id": "54a3ed9a-b51e-41de-bd95-37295b670c53",
   "metadata": {},
   "outputs": [],
   "source": [
    "viewer = napari.Viewer()"
   ]
  },
  {
   "cell_type": "markdown",
   "id": "820d2e52-a170-4dad-ac39-34d4e91da306",
   "metadata": {},
   "source": [
    "### Image loading\n",
    "There are a few different ways to load images to into our `viewer`.\n",
    "\n",
    "- By `dragging and dropping` image files onto the viewer\n",
    "- By selection image files from the `Open File(s)` menu option\n",
    "- Using the `viewer.open` command with a file path from within the notebook\n",
    "- Loading the image data into an array and then passing that array using the `viewer.add_image` command\n",
    "\n",
    "For the first three options the file path will get passed through our fileIO plugin interface, allowing you to easily leverage highly customized fileIO plugins for your diverse needs. The fourth option allows you complete control over loading and visualization and is most suited for when you have data already loaded into your notebook from other sources.\n",
    "\n",
    "Here we will explore the fourth option, explicitly loading an overview image from the lab and the `add_image()` method of our `Viewer` object.\n",
    "\n",
    "This works with many different image types of course.\n",
    "One small caveat about overview images: They can be quite large.\n",
    "Maximal size of images that napari can directly load without downsampling:  \n",
    "16384 in any directio max. So if your overview is 21599 x 25599, you can't see the full res data by just dragging & dropping images into napari (=> pyramidial file formats & lazy loading, see OME-Zarr)"
   ]
  },
  {
   "cell_type": "code",
   "execution_count": null,
   "id": "8c4c8e1f-ebbe-40d3-ae4f-3265de692f82",
   "metadata": {},
   "outputs": [],
   "source": [
    "image_folder = Path('/path/to/folder')\n",
    "img_filename = 'ImageName.tif'\n",
    "\n",
    "# For example:\n",
    "image_folder = Path('/Users/joel/Desktop/TIF_OVR_MIP/')\n",
    "img_filename = '220323SB050AAB_220326_215615_B02_T0001F001L01A01Z01C01.tif'\n",
    "img = imageio.v2.imread(image_folder / img_filename)"
   ]
  },
  {
   "cell_type": "code",
   "execution_count": null,
   "id": "310d6241-d845-4953-a84a-0bf3a69f0823",
   "metadata": {},
   "outputs": [],
   "source": [
    "viewer.add_image(img)"
   ]
  },
  {
   "cell_type": "markdown",
   "id": "d70f25d4-9c21-4fe7-8c18-5df8eb0df39d",
   "metadata": {},
   "source": [
    "### Changing viewer settings\n",
    "That's our image. But it doesn't look very nice just now. Let's rescale it better by changing the `contrast limits` in the viewer to something reasonable. And let's change the colormap from grey to blue in the colormap dropdown menu.\n",
    "\n",
    "We can do this interactively, but we can also do this directly when adding an image. Let's add a second image, but already rescale it and assign a different colormap."
   ]
  },
  {
   "cell_type": "code",
   "execution_count": null,
   "id": "ab6e8c2a-e37b-4a63-83b2-8b46a01c4137",
   "metadata": {},
   "outputs": [],
   "source": [
    "img_filename_2 = '220323SB050AAB_220326_215615_B02_T0001F001L01A02Z01C02.tif'\n",
    "img_2 = imageio.v2.imread(image_folder / img_filename_2)"
   ]
  },
  {
   "cell_type": "code",
   "execution_count": null,
   "id": "38c4e443-60bc-4dde-b3c6-6ecfa5385e18",
   "metadata": {},
   "outputs": [],
   "source": [
    "viewer.add_image(img_2, contrast_limits = [115, 1000], colormap='green')"
   ]
  },
  {
   "cell_type": "markdown",
   "id": "9200b49a-585f-4efc-a10c-3e91a0fda1b3",
   "metadata": {},
   "source": [
    "### Handling multiple layers\n",
    "Where did the first image go?\n",
    "When having multi-color images, we need to decide how they are blended together. What we typically want here is `additive` blending, i.e. to see the combination of the channels. Let's change this by choosing additive in the `blending` dropdown.\n",
    "\n",
    "And for the next channel we add, we can set this from the beginning as well. The add_image function allows us to set many such parameters. Use the help function to get the details:"
   ]
  },
  {
   "cell_type": "code",
   "execution_count": null,
   "id": "7f599cf3-3cb4-49d2-a97c-681fefea14f6",
   "metadata": {},
   "outputs": [],
   "source": [
    "help(viewer.add_image)"
   ]
  },
  {
   "cell_type": "markdown",
   "id": "84448709-b9ca-46ef-856e-2cf7090b488c",
   "metadata": {},
   "source": [
    "Another useful parameter is for example the scale parameter, setting the scale of the image correctly in x & y (especially useful if you want to look at something in 3D and the Z resolution is different than the xy resolution). We could set the scale here as `scale=(0.325, 0.325)` for a 20x Yokogawa image (but we need to do this for all layers, see later)."
   ]
  },
  {
   "cell_type": "code",
   "execution_count": null,
   "id": "ee08f996-9118-4e18-9a0a-255f289aeb2c",
   "metadata": {},
   "outputs": [],
   "source": [
    "img_filename_3 = '220323SB050AAB_220326_215615_B02_T0001F001L01A03Z01C03.tif'\n",
    "img_3 = imageio.v2.imread(image_folder / img_filename_3)\n",
    "viewer.add_image(img_3, contrast_limits = [115, 3000], colormap='red', blending='additive')"
   ]
  },
  {
   "cell_type": "markdown",
   "id": "2d1fdb8d-7de3-49a9-b14f-52364f9ae97a",
   "metadata": {},
   "source": [
    "### Adding label images\n",
    "`napari` supports seven different layer types, **Image**, **Labels**, **Points**, **Vectors**, **Shapes**, **Surface** and **Tracks**. Each layer corresponds to a different data type and has it's own set of visualizations and interactive controls. We provide an [associated tutorial](https://napari.org/tutorials/index.html) for each layer type to help you get started! \n",
    "\n",
    "You can add multiple layers of different types into the viewer and work with them, adjusting their properties and performing analysis.  \n",
    "Let's try out the label layers!"
   ]
  },
  {
   "cell_type": "code",
   "execution_count": null,
   "id": "5d229d72-0619-4080-847b-6bceed6c934e",
   "metadata": {},
   "outputs": [],
   "source": [
    "# TODO: Load label img\n",
    "labels_path = Path('/Users/joel/Desktop/TIF_OVR_MIP_SEG/object_v0.4')\n",
    "labels_name = '220323SB050AAB_220326_215615_B02_T0001F001L01A01Z01C01.tif'\n",
    "labels = imageio.v2.imread(labels_path / labels_name)\n",
    "viewer.add_labels(labels)"
   ]
  },
  {
   "cell_type": "markdown",
   "id": "9ee30933-ad65-4caa-a394-031465931a68",
   "metadata": {},
   "source": [
    "### Modify the layers from python\n",
    "You can modify the settings for napari layers both from the interface, as well as directly in python. For example, you can get a list of the layers that are currently in the viewer:"
   ]
  },
  {
   "cell_type": "code",
   "execution_count": null,
   "id": "9790ce4e-b91d-40b3-8262-85390ec52f4b",
   "metadata": {},
   "outputs": [],
   "source": [
    "print(viewer.layers)"
   ]
  },
  {
   "cell_type": "code",
   "execution_count": null,
   "id": "968dce23-0090-488c-b8b2-03cd9863fe33",
   "metadata": {},
   "outputs": [],
   "source": [
    "# Let's set a correct scale for all 4 layers:\n",
    "for layer in viewer.layers:\n",
    "    layer.scale = (0.325, 0.325)"
   ]
  },
  {
   "cell_type": "markdown",
   "id": "b7057d3a-f526-41ff-a9b4-3f7e230b857c",
   "metadata": {},
   "source": [
    "Once the scale is set correctly, we can add a scalebar. Either in the interface under View; Scalebar; Visible to on, or via python:"
   ]
  },
  {
   "cell_type": "code",
   "execution_count": null,
   "id": "06e8ed54-0f20-4bea-8c41-d1728c69af29",
   "metadata": {},
   "outputs": [],
   "source": [
    "viewer.scale_bar.visible=True\n",
    "viewer.scale_bar.unit='um'"
   ]
  },
  {
   "cell_type": "markdown",
   "id": "837361ec-bd74-4749-b178-99ddad9f993c",
   "metadata": {},
   "source": [
    "# Conclusions\n",
    "We have now seen the basic functionality of the napari viewer. Take a few minutes to play around with it, add some of your own images and ask if questions remain. Next, we will check how to save images from the napari viewer and how to record movies of animations"
   ]
  }
 ],
 "metadata": {
  "kernelspec": {
   "display_name": "Python 3 (ipykernel)",
   "language": "python",
   "name": "python3"
  },
  "language_info": {
   "codemirror_mode": {
    "name": "ipython",
    "version": 3
   },
   "file_extension": ".py",
   "mimetype": "text/x-python",
   "name": "python",
   "nbconvert_exporter": "python",
   "pygments_lexer": "ipython3",
   "version": "3.9.13"
  }
 },
 "nbformat": 4,
 "nbformat_minor": 5
}
