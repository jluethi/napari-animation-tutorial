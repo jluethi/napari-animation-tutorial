{
 "cells": [
  {
   "cell_type": "markdown",
   "id": "a24fc467-617f-4b22-9ed2-4bf786b86609",
   "metadata": {},
   "source": [
    "# napari animation\n",
    "Napari is great to visualize images. But sometimes, we want to save images or movies. You can easily script napari to put the settings just as you want, take images or even record movies of just the positions you are interested in.\n",
    "\n",
    "Using the napari screenshot functionality and the napari_animation plugin, we explore those options here. The napari_animation plugin was one of the libraries you installed in the beginning."
   ]
  },
  {
   "cell_type": "code",
   "execution_count": null,
   "id": "fd12632c-be00-4a3e-b832-3efd5c5f1aa4",
   "metadata": {},
   "outputs": [],
   "source": [
    "import napari\n",
    "from napari_animation import Animation, AnimationWidget, easing\n",
    "from pathlib import Path\n",
    "import imageio"
   ]
  },
  {
   "cell_type": "code",
   "execution_count": null,
   "id": "db5f86d9-eb8a-415e-962d-5c95a4f22249",
   "metadata": {},
   "outputs": [],
   "source": [
    "viewer = napari.Viewer()"
   ]
  },
  {
   "cell_type": "code",
   "execution_count": null,
   "id": "0d2e9687-d623-40d5-96d6-bae6aa8ffcb6",
   "metadata": {},
   "outputs": [],
   "source": [
    "image_folder = Path('/path/to/folder')\n",
    "\n",
    "# For example:\n",
    "image_folder = Path('/Users/joel/Desktop/TIF_OVR_MIP/')\n",
    "img_filename = '220323SB050AAB_220326_215615_B02_T0001F001L01A01Z01C01.tif'\n",
    "img = imageio.v2.imread(image_folder / img_filename)\n",
    "layer1 = viewer.add_image(img, contrast_limits = [115, 2000], colormap='blue', blending='additive', scale=(0.325, 0.325))\n",
    "img_filename_2 = '220323SB050AAB_220326_215615_B02_T0001F001L01A02Z01C02.tif'\n",
    "img_2 = imageio.v2.imread(image_folder / img_filename_2)\n",
    "layer2 = viewer.add_image(img_2, contrast_limits = [115, 1000], colormap='green', blending='additive', scale=(0.325, 0.325))\n",
    "img_filename_3 = '220323SB050AAB_220326_215615_B02_T0001F001L01A03Z01C03.tif'\n",
    "img_3 = imageio.v2.imread(image_folder / img_filename_3)\n",
    "layer3 = viewer.add_image(img_3, contrast_limits = [115, 3000], colormap='red', blending='additive', scale=(0.325, 0.325))\n",
    "viewer.scale_bar.visible=True\n",
    "viewer.scale_bar.unit='um'"
   ]
  },
  {
   "cell_type": "code",
   "execution_count": null,
   "id": "bfa07674-c9ae-43cb-b37b-56d90e02a4c8",
   "metadata": {},
   "outputs": [],
   "source": [
    "img_sc = viewer.screenshot('napari_screenshot.png')"
   ]
  },
  {
   "cell_type": "markdown",
   "id": "0aa6c646-6518-48b0-9f35-65f8b5be0e33",
   "metadata": {},
   "source": [
    "You may want to control the position & zoom level of the viewer before you take a screenshot. To do this, zoom to the region of interest. You can also set it programatically by changing `viewer.camera.zoom`and `viewer.camera.center`. "
   ]
  },
  {
   "cell_type": "code",
   "execution_count": null,
   "id": "a81a86f7-31a7-4771-814b-fb17ab5b595f",
   "metadata": {},
   "outputs": [],
   "source": [
    "print(viewer.camera.zoom)\n",
    "print(viewer.camera.center)"
   ]
  },
  {
   "cell_type": "code",
   "execution_count": null,
   "id": "22f37913-fade-4264-94d2-63772b9dd4bd",
   "metadata": {},
   "outputs": [],
   "source": [
    "viewer.camera.zoom = 3.39784349959661\n",
    "viewer.camera.center = (0.0, 1741.0170395115192, 2336.2689073705806)\n",
    "img_sc = viewer.screenshot('napari_screenshot_zoom_in_multicolor.png')"
   ]
  },
  {
   "cell_type": "markdown",
   "id": "42a9d547-fc85-440f-a24b-b2def5fbed4b",
   "metadata": {},
   "source": [
    "### Scripting screenshots \n",
    "If you are creating images for a figure, you may want to have the individual channels in black and white as well. This is something you can script in python"
   ]
  },
  {
   "cell_type": "code",
   "execution_count": null,
   "id": "1c73f40d-2a74-44e4-9aae-6e9c1747ddef",
   "metadata": {},
   "outputs": [],
   "source": [
    "for layer in viewer.layers:\n",
    "    layer.colormap = 'gray'\n",
    "layer2.visible = False\n",
    "layer3.visible = False\n",
    "img_sc = viewer.screenshot('napari_screenshot_zoom_in_channel1.png')\n",
    "layer2.visible = True\n",
    "layer1.visible = False\n",
    "img_sc = viewer.screenshot('napari_screenshot_zoom_in_channel2.png')\n",
    "layer3.visible = True\n",
    "layer2.visible = False\n",
    "img_sc = viewer.screenshot('napari_screenshot_zoom_in_channel3.png')"
   ]
  },
  {
   "cell_type": "markdown",
   "id": "32e5a872-6c0e-43c1-be69-4e023a6bf47a",
   "metadata": {},
   "source": [
    "### Creating animations\n",
    "Sometimes, a static image doesn't really represent your data well. You can use the `napari-animation` plugin to script movies.\n",
    "\n",
    "The core part are still modifications to layer visibility, zoom & center positions. But now, we can add `keyframes` to the movements between specific positions and then use the animation plugin to create a movie of that\n",
    "\n",
    "Some tips:\n",
    "- If you want to fade in or out layers, use `layer.opacity = 0` for fade out and `layer.opacity = 1` to fade back in again. By setting keyframes, you can control the duration of the fade, instead of having a layer appear suddenly\n",
    "- If you go to 3D, `viewer.dims.ndisplay = 3` switches into the 3D mode and changing `viewer.camera.angles` allows you to take extra control of camera parameters\n",
    "- If you want the movement to feel smoother, use the `ease=easing.sine_ease_in_out` option in `animation.capture_keyframe()`."
   ]
  },
  {
   "cell_type": "code",
   "execution_count": null,
   "id": "b47a128f-649f-4eba-b719-26a515c08bec",
   "metadata": {},
   "outputs": [],
   "source": [
    "# Helper variable to determine general speed of the animation\n",
    "time_units = 10\n",
    "\n",
    "# Set initial position\n",
    "viewer.camera.zoom = 0.2700881691843613\n",
    "viewer.camera.center = (0.0, 1449.3101109305828, 2269.6402831261435)\n",
    "layer3.visible = True\n",
    "layer2.visible = True\n",
    "layer1.visible = True\n",
    "layer1.colormap = 'blue'\n",
    "layer2.colormap = 'green'\n",
    "layer3.colormap = 'red'\n",
    "\n",
    "\n",
    "# Initialize the animation object\n",
    "animation = Animation(viewer)\n",
    "\n",
    "animation.capture_keyframe(steps=1*time_units)\n",
    "\n",
    "# Zoom in to a new location\n",
    "viewer.camera.zoom = 3.39784349959661\n",
    "viewer.camera.center = (0.0, 1741.0170395115192, 2336.2689073705806)\n",
    "animation.capture_keyframe(steps=8*time_units, ease=easing.sine_ease_in_out)\n",
    "animation.capture_keyframe(steps=6*time_units)\n",
    "\n",
    "animation.animate('napari_zoomin_movie.mp4', canvas_only=True, fps=30)"
   ]
  },
  {
   "cell_type": "markdown",
   "id": "9e288194-ae20-4031-ac1f-36cda4396d26",
   "metadata": {},
   "source": [
    "### Creating animations in 3D\n",
    "To finish, let's have a look at some making some movies in 3D. We load the 3D data from the intro notebook again and make some movies with this. For this, close the existing viewer and open a fresh one."
   ]
  },
  {
   "cell_type": "code",
   "execution_count": null,
   "id": "5f583043-111f-4856-a518-f7350d034d77",
   "metadata": {},
   "outputs": [],
   "source": [
    "viewer = napari.Viewer()"
   ]
  },
  {
   "cell_type": "code",
   "execution_count": null,
   "id": "13e9777a-3de4-4a1d-bc16-f1b1625f656c",
   "metadata": {},
   "outputs": [],
   "source": [
    "path_3D = Path('/Users/joel/Desktop/3D_Organoid/object_17')\n",
    "channel1_3D_name = '220120CS001AAA72h_220206_161008_B04_T0001F001L01A04Z01C01O00017_TIF-OVR.tif'\n",
    "channel1_3D = imageio.v2.volread(path_3D / channel1_3D_name)\n",
    "\n",
    "channel2_3D_name = '220120CS001AAA72h_220206_161008_B04_T0001F001L01A04Z01C02O00017_TIF-OVR.tif'\n",
    "channel2_3D = imageio.v2.volread(path_3D / channel2_3D_name)\n",
    "\n",
    "channel3_3D_name = '220120CS001AAA72h_220206_161008_B04_T0001F001L01A04Z01C03O00017_TIF-OVR.tif'\n",
    "channel3_3D = imageio.v2.volread(path_3D / channel3_3D_name)\n",
    "\n",
    "channel4_3D_name = '220120CS001AAA72h_220206_161008_B04_T0001F001L01A04Z01C04O00017_TIF-OVR.tif'\n",
    "channel4_3D = imageio.v2.volread(path_3D / channel4_3D_name)"
   ]
  },
  {
   "cell_type": "code",
   "execution_count": null,
   "id": "7f4a7355-ccc5-49a1-8326-e6995bcfc76e",
   "metadata": {},
   "outputs": [],
   "source": [
    "viewer.add_image(channel1_3D, contrast_limits = [115, 4000], colormap='blue', blending='additive', scale=(1, 0.1625, 0.1625))\n",
    "viewer.add_image(channel2_3D, contrast_limits = [115, 4000], colormap='green', blending='additive', scale=(1, 0.1625, 0.1625))\n",
    "viewer.add_image(channel3_3D, contrast_limits = [115, 1500], colormap='red', blending='additive', scale=(1, 0.1625, 0.1625))\n",
    "viewer.add_image(channel4_3D, contrast_limits = [115, 3000], colormap='gray', blending='additive', scale=(1, 0.1625, 0.1625))\n",
    "viewer.scale_bar.visible=True\n",
    "viewer.scale_bar.unit='um'"
   ]
  },
  {
   "cell_type": "markdown",
   "id": "7b4c3a65-3301-4b64-9fc7-18cd7de28a37",
   "metadata": {},
   "source": [
    "First, let's switch to 3D, tune the display settings until we are happy and choose a good initial position. Besides zoom & center, we now also need to set the angles."
   ]
  },
  {
   "cell_type": "code",
   "execution_count": null,
   "id": "abfce376-a529-4a4c-8315-31e3a2a3864e",
   "metadata": {},
   "outputs": [],
   "source": [
    "print(viewer.camera.angles)\n",
    "print(viewer.camera.zoom)\n",
    "print(viewer.camera.center)"
   ]
  },
  {
   "cell_type": "code",
   "execution_count": null,
   "id": "65f09fcc-f3e8-422f-8943-b1140b0d6f31",
   "metadata": {},
   "outputs": [],
   "source": [
    "# Helper variable to determine general speed of the animation\n",
    "time_units = 10\n",
    "\n",
    "# Initial position\n",
    "viewer.camera.angles = (-10.821890358627593, 3.677729843675152, 93.41792131964563)\n",
    "viewer.camera.zoom = 0.5648973402258087\n",
    "viewer.camera.center = (38.43063662848773, 22.389691790023555, 80.0512593110973)\n",
    "\n",
    "# Initialize the animation object\n",
    "animation = Animation(viewer)\n",
    "\n",
    "animation.capture_keyframe(steps=1*time_units)\n",
    "\n",
    "# Zoom in phase\n",
    "viewer.camera.angles = (-10.821890358627593, 3.677729843675152, 93.41792131964563)\n",
    "viewer.camera.zoom = 8.34282023107716\n",
    "viewer.camera.center = (36.87404325003319, 33.08705235030531, 45.955187040892106)\n",
    "animation.capture_keyframe(steps=5*time_units)\n",
    "\n",
    "# Briefly stay in place\n",
    "animation.capture_keyframe(steps=1*time_units)\n",
    "\n",
    "# Tilt\n",
    "viewer.camera.angles = (-9.272421966687192, 14.277887896896427, 136.97067422288384)\n",
    "viewer.camera.zoom = 8.34282023107716\n",
    "viewer.camera.center = (36.87404325003319, 33.08705235030531, 45.955187040892106)\n",
    "\n",
    "animation.capture_keyframe(steps=3*time_units)\n",
    "\n",
    "# Rotate\n",
    "viewer.camera.angles = (-122.11136228333524, 64.88897936606122, 53.79418293404105)\n",
    "viewer.camera.zoom = 8.34282023107716\n",
    "viewer.camera.center = (36.87404325003319, 33.08705235030531, 45.955187040892106)\n",
    "animation.capture_keyframe(steps=5*time_units)\n",
    "\n",
    "# Zoom in further\n",
    "viewer.camera.angles = (-136.7308378711137, 10.075769996745352, 84.46836504432848)\n",
    "viewer.camera.zoom = 19.547334270103736\n",
    "viewer.camera.center = (32.66551488526433, 32.46265761120795, 40.52731557593654)\n",
    "animation.capture_keyframe(steps=4*time_units)\n",
    "\n",
    "# Hold camera\n",
    "animation.capture_keyframe(steps=2*time_units)\n",
    "animation.animate('napari_3D_movie.mp4', canvas_only=True, fps=30)"
   ]
  }
 ],
 "metadata": {
  "kernelspec": {
   "display_name": "Python 3 (ipykernel)",
   "language": "python",
   "name": "python3"
  },
  "language_info": {
   "codemirror_mode": {
    "name": "ipython",
    "version": 3
   },
   "file_extension": ".py",
   "mimetype": "text/x-python",
   "name": "python",
   "nbconvert_exporter": "python",
   "pygments_lexer": "ipython3",
   "version": "3.9.13"
  }
 },
 "nbformat": 4,
 "nbformat_minor": 5
}
