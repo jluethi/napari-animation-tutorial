{
 "cells": [
  {
   "cell_type": "markdown",
   "id": "a24fc467-617f-4b22-9ed2-4bf786b86609",
   "metadata": {},
   "source": [
    "# napari animation\n",
    "Napari is great to visualize images. But sometimes, we want to save images or movies. You can easily script napari to put the settings just as you want, take images or even record movies of just the positions you are interested in.\n",
    "\n",
    "Using the napari screenshot functionality and the napari_animation plugin, we explore those options here. The napari_animation plugin was one of the libraries you installed in the beginning."
   ]
  },
  {
   "cell_type": "code",
   "execution_count": 1,
   "id": "fd12632c-be00-4a3e-b832-3efd5c5f1aa4",
   "metadata": {},
   "outputs": [],
   "source": [
    "import napari\n",
    "from napari_animation import Animation, AnimationWidget, easing\n",
    "from pathlib import Path\n",
    "import imageio"
   ]
  },
  {
   "cell_type": "code",
   "execution_count": 12,
   "id": "db5f86d9-eb8a-415e-962d-5c95a4f22249",
   "metadata": {},
   "outputs": [],
   "source": [
    "viewer = napari.Viewer()"
   ]
  },
  {
   "cell_type": "code",
   "execution_count": 13,
   "id": "0d2e9687-d623-40d5-96d6-bae6aa8ffcb6",
   "metadata": {},
   "outputs": [],
   "source": [
    "image_folder = Path('/path/to/folder')\n",
    "\n",
    "# For example:\n",
    "image_folder = Path('/Users/joel/Desktop/TIF_OVR_MIP/')\n",
    "img_filename = '220323SB050AAB_220326_215615_B02_T0001F001L01A01Z01C01.tif'\n",
    "img = imageio.v2.imread(image_folder / img_filename)\n",
    "layer1 = viewer.add_image(img, contrast_limits = [115, 2000], colormap='blue', blending='additive', scale=(0.325, 0.325))\n",
    "img_filename_2 = '220323SB050AAB_220326_215615_B02_T0001F001L01A02Z01C02.tif'\n",
    "img_2 = imageio.v2.imread(image_folder / img_filename_2)\n",
    "layer2 = viewer.add_image(img_2, contrast_limits = [115, 1000], colormap='green', blending='additive', scale=(0.325, 0.325))\n",
    "img_filename_3 = '220323SB050AAB_220326_215615_B02_T0001F001L01A03Z01C03.tif'\n",
    "img_3 = imageio.v2.imread(image_folder / img_filename_3)\n",
    "layer3 = viewer.add_image(img_3, contrast_limits = [115, 3000], colormap='red', blending='additive', scale=(0.325, 0.325))\n",
    "viewer.scale_bar.visible=True\n",
    "viewer.scale_bar.unit='um'"
   ]
  },
  {
   "cell_type": "code",
   "execution_count": 8,
   "id": "bfa07674-c9ae-43cb-b37b-56d90e02a4c8",
   "metadata": {},
   "outputs": [],
   "source": [
    "img_sc = viewer.screenshot('napari_screenshot.png')"
   ]
  },
  {
   "cell_type": "markdown",
   "id": "0aa6c646-6518-48b0-9f35-65f8b5be0e33",
   "metadata": {},
   "source": [
    "You may want to control the position & zoom level of the viewer before you take a screenshot. To do this, zoom to the region of interest. You can also set it programatically by changing `viewer.camera.zoom`and `viewer.camera.center`. "
   ]
  },
  {
   "cell_type": "code",
   "execution_count": 18,
   "id": "a81a86f7-31a7-4771-814b-fb17ab5b595f",
   "metadata": {},
   "outputs": [
    {
     "name": "stdout",
     "output_type": "stream",
     "text": [
      "0.2700881691843613\n",
      "(0.0, 1449.3101109305828, 2269.6402831261435)\n"
     ]
    }
   ],
   "source": [
    "print(viewer.camera.zoom)\n",
    "print(viewer.camera.center)"
   ]
  },
  {
   "cell_type": "code",
   "execution_count": 14,
   "id": "22f37913-fade-4264-94d2-63772b9dd4bd",
   "metadata": {},
   "outputs": [],
   "source": [
    "viewer.camera.zoom = 3.39784349959661\n",
    "viewer.camera.center = (0.0, 1741.0170395115192, 2336.2689073705806)\n",
    "img_sc = viewer.screenshot('napari_screenshot_zoom_in_multicolor.png')"
   ]
  },
  {
   "cell_type": "markdown",
   "id": "42a9d547-fc85-440f-a24b-b2def5fbed4b",
   "metadata": {},
   "source": [
    "### Scripting screenshots \n",
    "If you are creating images for a figure, you may want to have the individual channels in black and white as well. This is something you can script in python"
   ]
  },
  {
   "cell_type": "code",
   "execution_count": 17,
   "id": "1c73f40d-2a74-44e4-9aae-6e9c1747ddef",
   "metadata": {},
   "outputs": [],
   "source": [
    "for layer in viewer.layers:\n",
    "    layer.colormap = 'gray'\n",
    "layer2.visible = False\n",
    "layer3.visible = False\n",
    "img_sc = viewer.screenshot('napari_screenshot_zoom_in_channel1.png')\n",
    "layer2.visible = True\n",
    "layer1.visible = False\n",
    "img_sc = viewer.screenshot('napari_screenshot_zoom_in_channel2.png')\n",
    "layer3.visible = True\n",
    "layer2.visible = False\n",
    "img_sc = viewer.screenshot('napari_screenshot_zoom_in_channel3.png')"
   ]
  },
  {
   "cell_type": "markdown",
   "id": "32e5a872-6c0e-43c1-be69-4e023a6bf47a",
   "metadata": {},
   "source": [
    "### Creating animations\n",
    "Sometimes, a static 2D image doesn't really represent your image well. You can use the `napari-animation` plugin to script movies.\n",
    "\n",
    "The core part are still modifications to layer visibility, zoom & center positions. But now, we can add `keyframes` to the movements between specific positions and then use the animation plugin to create a movie of that\n",
    "\n",
    "Some tips:\n",
    "- If you want to fade in or out layers, use `layer.opacity = 0` for fade out and `layer.opacity = 1` to fade back in again. By setting keyframes, you can control the duration of the fade, instead of having a layer appear suddenly\n",
    "- If you go to 3D, `viewer.dims.ndisplay = 3` switches into the 3D mode and changing `viewer.camera.angles` allows you to take extra control of camera parameters\n",
    "- If you want the movement to feel smoother, use the `ease=easing.sine_ease_in_out` option in `animation.capture_keyframe()`."
   ]
  },
  {
   "cell_type": "code",
   "execution_count": null,
   "id": "b47a128f-649f-4eba-b719-26a515c08bec",
   "metadata": {},
   "outputs": [],
   "source": [
    "# Helper variable to determine general speed of the animation\n",
    "time_units = 10\n",
    "\n",
    "# Set initial position\n",
    "viewer.camera.zoom = 0.2700881691843613\n",
    "viewer.camera.center = (0.0, 1449.3101109305828, 2269.6402831261435)\n",
    "layer3.visible = True\n",
    "layer2.visible = True\n",
    "layer1.visible = True\n",
    "layer1.colormap = 'blue'\n",
    "layer2.colormap = 'green'\n",
    "layer3.colormap = 'red'\n",
    "\n",
    "\n",
    "# Initialize the animation object\n",
    "animation = Animation(viewer)\n",
    "\n",
    "animation.capture_keyframe(steps=1*time_units)\n",
    "\n",
    "# Zoom in to a new location\n",
    "viewer.camera.zoom = 3.39784349959661\n",
    "viewer.camera.center = (0.0, 1741.0170395115192, 2336.2689073705806)\n",
    "animation.capture_keyframe(steps=8*time_units, ease=easing.sine_ease_in_out)\n",
    "animation.capture_keyframe(steps=6*time_units)\n",
    "\n",
    "animation.animate('napari_zoomin_movie.mp4', canvas_only=True, fps=30)"
   ]
  },
  {
   "cell_type": "code",
   "execution_count": null,
   "id": "f3bed8ef-a2da-43bb-96dd-1ba745524798",
   "metadata": {},
   "outputs": [],
   "source": []
  },
  {
   "cell_type": "code",
   "execution_count": null,
   "id": "5f583043-111f-4856-a518-f7350d034d77",
   "metadata": {},
   "outputs": [],
   "source": []
  },
  {
   "cell_type": "code",
   "execution_count": null,
   "id": "13e9777a-3de4-4a1d-bc16-f1b1625f656c",
   "metadata": {},
   "outputs": [],
   "source": []
  },
  {
   "cell_type": "code",
   "execution_count": null,
   "id": "abfce376-a529-4a4c-8315-31e3a2a3864e",
   "metadata": {},
   "outputs": [],
   "source": [
    "# Go to 3D (with a smaller dataset)\n",
    "viewer.dims.ndisplay = 3\n",
    "viewer.camera.angles\n"
   ]
  }
 ],
 "metadata": {
  "kernelspec": {
   "display_name": "Python 3 (ipykernel)",
   "language": "python",
   "name": "python3"
  },
  "language_info": {
   "codemirror_mode": {
    "name": "ipython",
    "version": 3
   },
   "file_extension": ".py",
   "mimetype": "text/x-python",
   "name": "python",
   "nbconvert_exporter": "python",
   "pygments_lexer": "ipython3",
   "version": "3.9.13"
  }
 },
 "nbformat": 4,
 "nbformat_minor": 5
}
